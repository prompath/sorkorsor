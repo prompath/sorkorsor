{
 "cells": [
  {
   "cell_type": "markdown",
   "metadata": {},
   "source": [
    "# Libraries"
   ]
  },
  {
   "cell_type": "code",
   "execution_count": 1,
   "metadata": {},
   "outputs": [],
   "source": [
    "import pandas as pd\n",
    "from IPython.core.display import HTML\n",
    "\n",
    "import smtplib\n",
    "from email.mime.multipart import MIMEMultipart\n",
    "from email.mime.text import MIMEText\n",
    "from email.utils import formatdate"
   ]
  },
  {
   "cell_type": "markdown",
   "metadata": {},
   "source": [
    "# Read HTML File"
   ]
  },
  {
   "cell_type": "code",
   "execution_count": 2,
   "metadata": {},
   "outputs": [],
   "source": [
    "body = open('html/card.html', 'r', encoding='utf8').read()"
   ]
  },
  {
   "cell_type": "code",
   "execution_count": 3,
   "metadata": {},
   "outputs": [
    {
     "output_type": "execute_result",
     "data": {
      "text/plain": [
       "<IPython.core.display.HTML object>"
      ],
      "text/html": "<!DOCTYPE html\n    PUBLIC \"-//W3C//DTD XHTML 1.0 Transitional//EN\" \"http://www.w3.org/TR/xhtml1/DTD/xhtml1-transitional.dtd\">\n<html xmlns:v=\"urn:schemas-microsoft-com:vml\">\n\n<head>\n    <meta http-equiv=\"Content-Type\" content=\"text/html; charset=UTF-8\" />\n    <title>Vistec New Year Card Email</title>\n    <meta name=\"viewport\" content=\"width=device-width, initial-scale=1.0\" />\n    <!--[if mso]>\n    <style type=\"text/css\">\n    /* /\\/\\/\\/\\/\\/\\/\\/\\/ RESET STYLES /\\/\\/\\/\\/\\/\\/\\/\\/ */\n        body{\n            margin:0;\n            padding:0;\n        }\n\n        img{\n            border:0 none;\n            height:auto;\n            line-height:100%;\n            outline:none;\n            text-decoration:none;\n        }\n\n        a img{\n            border:0 none;\n        }\n\n        .imageFix{\n            display:block;\n        }\n\n        table, td{\n            border-collapse:collapse;\n        }\n\n        #bodyTable{\n            height:100% !important;\n            margin:0;\n            padding:0;\n            width:100% !important;\n        }\n\n    </style>\n    <![endif]-->\n</head>\n\n<body width=“100%” style=“margin: 0; padding: 0 !important; mso-line-height-rule: exactly;>\n    <table role=\"presentation\" border=\"0\" cellpadding=\"0\" cellspacing=\"0\" width=600>\n        <tr>\n            <td align=\"cemter\" width=\"100%\">\n            <table  role=\"presentation\" align=\"center\" border=\"0\" cellpadding=\"0\" cellspacing=\"0\" width=\"100%\" style=\"border-collapse: collapse;\">\n                <tr>\n                    <td bgcolor=\"#242527\" style=\"font-size: 0; line-height: 0;\" height=\"10\">&nbsp;</td>\n                \n                </tr>\n                <tr>\n                    <td align=\"center\" bgcolor=\"#242527\" width=\"100%\">\n                        <table role=\"presentation\" border=\"0\" cellpadding=\"0\" cellspacing=\"0\" width=\"100%\" height=\"50\" style=\"border-collapse: collapse;\">\n                            <tr>\n                                <td align=\"left\" bgcolor=\"#ffffff\" style=\"padding: 20px 0px 20px 10px;\" width=\"70%\">\n                                    <p style=\"margin: 0; color:#848789 ; font-size:10px; font-family: Tahoma;\">Happy New Year Card by\n                                        VISTEC</p>\n                                </td>\n                                <td align=\"right\" bgcolor=\"#ffffff\" width=\"15%\" valign=\"middle\" style=\"padding: 0px 10px 0px 0px;\">\n                                    <img src=\"https://medium-1.herokuapp.com/static/images/airesearch.png\" alt=\"ai research logo.\" width=\"auto\" height=\"30\" style=\"display: block;\" border=\"0\" >\n                                </td>\n                                <td align=\"right\" bgcolor=\"#ffffff\" width=\"15%\" valign=\"middle\" style=\"padding: 0px 10px 0px 0px;\">\n                                    <img src=\"https://medium-1.herokuapp.com/static/images/vistec.png\" alt=\"ai research logo.\" width=\"auto%\" height=\"30\" style=\"display: block;\" border=\"0\">\n                                </td>\n                            </tr>\n                        </table>\n                    </td>\n                </tr>\n                <tr>\n                    <td>\n                        <img src=\"https://image.freepik.com/free-vector/realistic-new-year-2021-background_23-2148775419.jpg\"\n                            alt=\"Happy New Year\" width=\"100%\" height=\"325\"style=\"display: block;\" />\n                    </td>\n                </tr>\n\n                <tr>\n                    <td valign=\"top\" bgcolor=\"#E2CDB3\" alt=\"my words for you, if it;s not shown properly please view on browser\" width=\"600\" height=\"350\">\n                  \n                        <table  role=\"presentation\" align=\"center\" valign=\"middle\" border=\"0\" cellpadding=\"0\" cellspacing=\"0\" width=\"100%\" height=\"100%\"\n                            style=\"border-collapse: collapse; table-layout:fixed;  word-wrap: break-word; word-break:break-all;\">\n                                <tr>\n                                    <td valign=\" middle\" align=\"left\" style=\"mso-line-height-rule:exactly; height: 10px; padding: 3px 10px 0px 10px;\">\n                                   \n                                        <span\n                                        style=\"color: #242527; font-family: Tahoma; font-size: 20px; -ms-text-size-adjust: 100%;\n                                        -webkit-text-size-adjust: 100%;\">Dear,\n                                        {recipient name}\n                                    </span>\n                                    </td>\n                                </tr>\n                                <tr>\n                                    <td valign=\"middle\" align=\"center\" height=\"250\" style=\"mso-line-height-rule:exactly; padding: 10px 20px 19px 20px;\">\n                                        <span valign=\"middle\" style=\"font-family: Tahoma; color:#242527; font-size: 18px; -ms-text-size-adjust: 100%;\n                                        -webkit-text-size-adjust: 100%;\">{text} </span>\n                                    </td>\n                                </tr>\n                                <tr>\n                                    <td valign=\"middle\" align=\"right\" style=\"mso-line-height-rule:exactly; height: 10px; padding: 0px 10px 3px 1px\" -ms-text-size-adjust: 100%;\n                                    -webkit-text-size-adjust: 100%;>\n                                        \n                                        <span\n                                            style=\"color:#242527; font-family: Tahoma; font-size: 20px; -ms-text-size-adjust: 100%;\n                                            -webkit-text-size-adjust: 100%;\">Sincerely,\n                                            {sender name}</span>\n                                    </td>\n                                </tr>\n                        </table>\n                </td>\n                </tr>\n                <tr>\n                    <td bgcolor=\"#242527\" align=\"center\">\n                        <img src=\"http://gen.sendtric.com/countdown/l1pas2a7q0\" alt=\"Countdown Timerr\" width=\"350\"\n                            style=\"display: block;\" />\n                    </td>\n                </tr>\n            \n            \n                <tr>\n                    <td align=\"center\" background=\"https://images.unsplash.com/photo-1511267872383-343c1d34413a?ixlib=rb-1.2.1&ixid=MXwxMjA3fDB8MHxwaG90by1wYWdlfHx8fGVufDB8fHw%3D&auto=format&fit=crop&w=1050&q=80\" style=\"opacity: 0.8\" alt=\"if it;s not shown properly please view on browser\">\n                    <!--[if mso]>\n                    <v:rect xmlns:v=\"urn:schemas-microsoft-com:vml\" fill=\"true\" stroke=\"false\" style=\"width:900px;height:175px;\">\n                        <v:fill type=\"tile\" src=\"https://images.unsplash.com/photo-1511267872383-343c1d34413a?ixlib=rb-1.2.1&ixid=MXwxMjA3fDB8MHxwaG90by1wYWdlfHx8fGVufDB8fHw%3D&auto=format&fit=crop&w=1050&q=80\" color=\"#ffffff\" />\n                    <![endif]-->\n                            <table align=\"center\" valign=\"middle\" role=\"presentation\" width=\"100%\" height=\"150px\" cellpadding=\"0\" cellspacing=\"0\";\" style=\"border-collapse: collapse; table-layout:fixed; word-wrap: break-word; word-break:break-all;\">\n                                <!--[if mso]>\n                                    <tr>\n                                        <td style=\"font-size: 0; line-height: 0;\" height=\"20\">&nbsp;</td>\n                                    </tr>\n                                <![endif]-->\n                                <tr>\n                                <td valign=\"middle\" align=\"center\" height=\"150px\" style=\"text-align:center;\">\n                                    <p><b><font color=\"black\" style=\"font-size: 20px;\"font-family: Tahoma;\">\n                                    WANT TO SEND CARDS TOO?\n                                    </font></b></p>\n                                    <a href=\"https://medium.com/@jeerawatchuachan/b489b0acd29f\" target=\"_blank\"\n                                    style=\"background-color: #000000;\n                                            background-image: linear-gradient(to top#000000,, #000000);\n                                            border: 1px solid #ffffff;\n                                            border-radius: 6px;\n                                            color:  #ffffff;\n                                            display: inline-block;\n                                            font-family: Tahoma;\n                                            font-weight: bold;\n                                            mso-border-alt: 8px solid #000000;\n                                            mso-padding-alt: 0;\n                                            padding: 8px 16px;\n                                            text-decoration: none;\">READ THIS</a>\n                                    </a>\n                                </td>\n                                </tr>\n                            </table>\n                    <!--[if mso]>\n                    </v:rect>\n                    <![endif]-->\n                    </td>\n                </tr>\n                \n            </table>\n            </td>\n        </tr>\n    </table>\n</body>\n\n</html>"
     },
     "metadata": {},
     "execution_count": 3
    }
   ],
   "source": [
    "HTML(body)"
   ]
  },
  {
   "cell_type": "markdown",
   "metadata": {},
   "source": [
    "# Import Recipients"
   ]
  },
  {
   "cell_type": "code",
   "execution_count": 4,
   "metadata": {},
   "outputs": [
    {
     "output_type": "execute_result",
     "data": {
      "text/plain": [
       "                     email                 message recipient\n",
       "0   john_example@email.com  Have a great new year!      John\n",
       "1  shawn_example@email.com  Wish you all the best!     Shawn"
      ],
      "text/html": "<div>\n<style scoped>\n    .dataframe tbody tr th:only-of-type {\n        vertical-align: middle;\n    }\n\n    .dataframe tbody tr th {\n        vertical-align: top;\n    }\n\n    .dataframe thead th {\n        text-align: right;\n    }\n</style>\n<table border=\"1\" class=\"dataframe\">\n  <thead>\n    <tr style=\"text-align: right;\">\n      <th></th>\n      <th>email</th>\n      <th>message</th>\n      <th>recipient</th>\n    </tr>\n  </thead>\n  <tbody>\n    <tr>\n      <th>0</th>\n      <td>john_example@email.com</td>\n      <td>Have a great new year!</td>\n      <td>John</td>\n    </tr>\n    <tr>\n      <th>1</th>\n      <td>shawn_example@email.com</td>\n      <td>Wish you all the best!</td>\n      <td>Shawn</td>\n    </tr>\n  </tbody>\n</table>\n</div>"
     },
     "metadata": {},
     "execution_count": 4
    }
   ],
   "source": [
    "df = pd.read_csv('recipients.csv')\n",
    "df"
   ]
  },
  {
   "cell_type": "markdown",
   "metadata": {},
   "source": [
    "# Email Settings"
   ]
  },
  {
   "cell_type": "code",
   "execution_count": 5,
   "metadata": {},
   "outputs": [],
   "source": [
    "my_username = 'sender@email.com'\n",
    "my_password = 'sender_password'\n",
    "send_from = 'sender@email.com'\n",
    "sender_name = 'Sender Name'\n",
    "email_subject = 'Happy New Year!'"
   ]
  },
  {
   "cell_type": "markdown",
   "metadata": {},
   "source": [
    "# Function for Sending Email"
   ]
  },
  {
   "cell_type": "code",
   "execution_count": 6,
   "metadata": {},
   "outputs": [],
   "source": [
    "def send_email(send_from, sender_name, subject, body, recipients, username, password):\n",
    "    \"\"\"Perform email transaction to emails in a dataframe\n",
    "    \"\"\"\n",
    "    recipients_list = [i for i in zip(recipients['email'], recipients['message'], recipients['recipient'])]\n",
    "    for (email, message, recipient) in recipients_list:\n",
    "        msg = MIMEMultipart()\n",
    "        msg['From'] = send_from\n",
    "        msg['Subject'] = subject\n",
    "        msg['Date'] = formatdate(localtime=True)\n",
    "        body_temp = body.replace('{sender name}', sender_name)\n",
    "        body_temp = body_temp.replace('{recipient name}', recipient)\n",
    "        body_temp = body_temp.replace('{text}', message)\n",
    "        msg['To'] = email\n",
    "        msgText = MIMEText(body_temp, 'html')\n",
    "        msg.attach(msgText)\n",
    "        smtp = smtplib.SMTP('smtp.office365.com', 587)\n",
    "        smtp.ehlo()\n",
    "        smtp.starttls()\n",
    "        smtp.login(username, password)\n",
    "        smtp.sendmail(send_from, [email], msg.as_string())\n",
    "        smtp.quit()"
   ]
  },
  {
   "cell_type": "markdown",
   "metadata": {},
   "source": [
    "# Send to recipients"
   ]
  },
  {
   "cell_type": "code",
   "execution_count": null,
   "metadata": {},
   "outputs": [],
   "source": [
    "send_email(send_from, sender_name, email_subject, body, df, username=my_username, \n",
    "           password=my_password)"
   ]
  }
 ],
 "metadata": {
  "kernelspec": {
   "name": "python3",
   "display_name": "Python 3.8.6 64-bit",
   "metadata": {
    "interpreter": {
     "hash": "0cd5d5c698fda9e224ecedcd720182965d67d027171e40fb256e465c8ee4d634"
    }
   }
  },
  "language_info": {
   "codemirror_mode": {
    "name": "ipython",
    "version": 3
   },
   "file_extension": ".py",
   "mimetype": "text/x-python",
   "name": "python",
   "nbconvert_exporter": "python",
   "pygments_lexer": "ipython3",
   "version": "3.8.6-final"
  }
 },
 "nbformat": 4,
 "nbformat_minor": 4
}