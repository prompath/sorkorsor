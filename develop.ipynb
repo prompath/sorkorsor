{
 "cells": [
  {
   "cell_type": "markdown",
   "metadata": {},
   "source": [
    "# Libraries"
   ]
  },
  {
   "cell_type": "code",
   "execution_count": 1,
   "metadata": {},
   "outputs": [],
   "source": [
    "import pandas as pd\n",
    "from IPython.core.display import HTML\n",
    "\n",
    "import smtplib\n",
    "from email.mime.multipart import MIMEMultipart\n",
    "from email.mime.text import MIMEText\n",
    "from email.utils import formatdate"
   ]
  },
  {
   "cell_type": "markdown",
   "metadata": {},
   "source": [
    "# Read HTML File"
   ]
  },
  {
   "cell_type": "code",
   "execution_count": 2,
   "metadata": {},
   "outputs": [],
   "source": [
    "body = open('html/card.html', 'r', encoding='utf8').read()"
   ]
  },
  {
   "cell_type": "code",
   "execution_count": 3,
   "metadata": {},
   "outputs": [
    {
     "data": {
      "text/html": [
       "<!DOCTYPE html\n",
       "    PUBLIC \"-//W3C//DTD XHTML 1.0 Transitional//EN\" \"http://www.w3.org/TR/xhtml1/DTD/xhtml1-transitional.dtd\">\n",
       "<html xmlns=\"http://www.w3.org/1999/xhtml\" lang=\"en-GB\">\n",
       "\n",
       "<head>\n",
       "    <meta http-equiv=\"Content-Type\" content=\"text/html; charset=UTF-8\" />\n",
       "    <title>Demystifying Email Design</title>\n",
       "    <meta name=\"viewport\" content=\"width=device-width, initial-scale=1.0\" />\n",
       "</head>\n",
       "\n",
       "<body style=\"margin: 0; padding: 0;\">\n",
       "    <table role=\"presentation\" border=\"0\" cellpadding=\"0\" cellspacing=\"0\" width=\"100%\">\n",
       "        <table align=\"center\" border=\"0\" cellpadding=\"0\" cellspacing=\"0\" width=\"600\" style=\"border-collapse: collapse;\">\n",
       "            <tr>\n",
       "                <td align=\"center\" bgcolor=\"#30373b\" style=\"padding: 20px 0 20px 0;\">\n",
       "                    <p style=\"margin: 0; color:#848789 ; font-size:6px; font-family: Tahoma;\">Happy New Year Card By\n",
       "                        Vistec</p>\n",
       "                </td>\n",
       "            </tr>\n",
       "            <tr>\n",
       "                <td>\n",
       "                    <img src=\"https://image.freepik.com/free-vector/hand-drawn-new-year-2021_23-2148723970.jpg\"\n",
       "                        alt=\"Happy New Year\" width=\"600\" style=\"display: block;\" />\n",
       "                </td>\n",
       "            </tr>\n",
       "            <tr>\n",
       "                <td bgcolor=\"#C78BB1\" align=\"center\">\n",
       "                    <img src=\"http://gen.sendtric.com/countdown/rd3u2yxbgs\" alt=\"Countdown Timerr\" width=\"350\"\n",
       "                        style=\"display: block;\" />\n",
       "                </td>\n",
       "            </tr>\n",
       "            <tr>\n",
       "                <td bgcolor=\"#ffffff\" style=\"padding: 20px 30px 20px 30px;\">\n",
       "                    <table border=\"0\" cellpadding=\"0\" cellspacing=\"0\" width=\"100%\" style=\"border-collapse: collapse;\">\n",
       "                        <tr>\n",
       "                            <td align=\"center\">\n",
       "                                <p style=\"margin: 0; font-family: Tahoma; font-size: 18px; color:#8289B9;\">Hello, it's\n",
       "                                    {sender name}</p>\n",
       "                            </td>\n",
       "                        </tr>\n",
       "                        <tr>\n",
       "                            <td align=\"center\">\n",
       "                                <p style=\"margin: 0; font-family: Tahoma; font-size: 18px;color:#8289B9\">This is my card\n",
       "                                </p>\n",
       "                            </td>\n",
       "                        </tr>\n",
       "                        <tr>\n",
       "                            <td align=\"center\">\n",
       "                                <p style=\"margin: 0; font-family: Tahoma; font-size: 18px;color:#8289B9\">just for you\n",
       "                                </p>\n",
       "                            </td>\n",
       "                        </tr>\n",
       "                    </table>\n",
       "                </td>\n",
       "            </tr>\n",
       "            <tr>\n",
       "                <td align=\"center\" bgcolor=\"#ffffff\">\n",
       "                    <img src=\"https://image.freepik.com/free-vector/watercolor-new-year-2021-background_52683-52410.jpg\"\n",
       "                        alt=\"Front card\" width=\"350\" style=\"display: block;\" />\n",
       "                </td>\n",
       "            </tr>\n",
       "            <tr>\n",
       "                <td bgcolor=\"#ffffff\" style=\"font-size: 0; line-height: 0;\" height=\"20\">&nbsp;</td>\n",
       "            </tr>\n",
       "\n",
       "            <tr>\n",
       "                <td bgcolor=\"#ffffff\">\n",
       "                    <table align=\"center\" border=\"0\" cellpadding=\"0\" cellspacing=\"0\" width=\"350\" height=\"220\"\n",
       "                        background=\"https://image.freepik.com/free-vector/soft-pastel-background-with-flowers_79603-1074.jpg\"\n",
       "                        style=\"border-collapse: collapse; table-layout:fixed; word-wrap: break-word\"\">\n",
       "                        \n",
       "                            <tr>\n",
       "                                <td valign=\" middle\" height=\"25\">\n",
       "                        <span\n",
       "                            style=\"position:relative;left: 10px;color: black; font-family: Tahoma; font-size: 12px;\">Dear,\n",
       "                            {recipient name}</span>\n",
       "                </td>\n",
       "            </tr>\n",
       "            <tr>\n",
       "                <td valign=\"middle\" align=\"center\" style=\"padding: 10px 10px 10px 10px;\">\n",
       "                    <span style=\"font-family: Tahoma;\">{text}</span>\n",
       "                </td>\n",
       "            </tr>\n",
       "            <tr>\n",
       "                <td valign=\"middle\" align=\"right\" height=\"25\">\n",
       "                    <span\n",
       "                        style=\"position:relative;right: 10px;color: black; font-family: Tahoma; font-size: 12px;\">Sincerely,\n",
       "                        {sender name}</span>\n",
       "                </td>\n",
       "            </tr>\n",
       "        </table>\n",
       "        </td>\n",
       "        </tr>\n",
       "        <tr>\n",
       "            <td bgcolor=\"#ffffff\" style=\"font-size: 0; line-height: 0;\" height=\"20\">&nbsp;</td>\n",
       "        </tr>\n",
       "        <tr>\n",
       "            <td align=\"middle\" bgcolor=\"#30373b\" style=\"padding: 5px 50px 5px 50px;\">\n",
       "                <table border=\"0\" cellpadding=\"0\" cellspacing=\"0\" width=\"100%\" style=\"border-collapse: collapse;\">\n",
       "                    <tr>\n",
       "                        <td>\n",
       "                            <p style=\"margin: 0;color: #F6D1CB; font-family: Tahoma; font-size: 12px;\">Do you want to\n",
       "                                send cards too?</p>\n",
       "                        </td>\n",
       "                    </tr>\n",
       "                    <tr>\n",
       "                        <td>\n",
       "                            <p style=\"margin: 0; color: #F6D1CB; font-family: Tahoma; font-size: 12px;\">You can send\n",
       "                                your customized cards to your beloved family, friends and colleagues</p>\n",
       "                        </td>\n",
       "                    </tr>\n",
       "                    <tr>\n",
       "                        <td>\n",
       "                            <a href=\"https://www.google.com/\" target=\"_blank\">\n",
       "                                <p style=\"margin: 0;color:#8289B9; font-family: Tahoma; font-size: 12px;\">read this</p>\n",
       "                            </a>\n",
       "                        </td>\n",
       "                    </tr>\n",
       "                </table>\n",
       "            </td>\n",
       "        </tr>\n",
       "    </table>\n",
       "    </table>\n",
       "</body>\n",
       "\n",
       "</html>"
      ],
      "text/plain": [
       "<IPython.core.display.HTML object>"
      ]
     },
     "execution_count": 3,
     "metadata": {},
     "output_type": "execute_result"
    }
   ],
   "source": [
    "HTML(body)"
   ]
  },
  {
   "cell_type": "markdown",
   "metadata": {},
   "source": [
    "# Import Recipients"
   ]
  },
  {
   "cell_type": "code",
   "execution_count": 4,
   "metadata": {},
   "outputs": [
    {
     "data": {
      "text/html": [
       "<div>\n",
       "<style scoped>\n",
       "    .dataframe tbody tr th:only-of-type {\n",
       "        vertical-align: middle;\n",
       "    }\n",
       "\n",
       "    .dataframe tbody tr th {\n",
       "        vertical-align: top;\n",
       "    }\n",
       "\n",
       "    .dataframe thead th {\n",
       "        text-align: right;\n",
       "    }\n",
       "</style>\n",
       "<table border=\"1\" class=\"dataframe\">\n",
       "  <thead>\n",
       "    <tr style=\"text-align: right;\">\n",
       "      <th></th>\n",
       "      <th>email</th>\n",
       "      <th>message</th>\n",
       "      <th>recipient</th>\n",
       "    </tr>\n",
       "  </thead>\n",
       "  <tbody>\n",
       "    <tr>\n",
       "      <th>0</th>\n",
       "      <td>john_example@email.com</td>\n",
       "      <td>Have a great new year!</td>\n",
       "      <td>John</td>\n",
       "    </tr>\n",
       "    <tr>\n",
       "      <th>1</th>\n",
       "      <td>shawn_example@email.com</td>\n",
       "      <td>Wish you all the best!</td>\n",
       "      <td>Shawn</td>\n",
       "    </tr>\n",
       "  </tbody>\n",
       "</table>\n",
       "</div>"
      ],
      "text/plain": [
       "                     email                 message recipient\n",
       "0   john_example@email.com  Have a great new year!      John\n",
       "1  shawn_example@email.com  Wish you all the best!     Shawn"
      ]
     },
     "execution_count": 4,
     "metadata": {},
     "output_type": "execute_result"
    }
   ],
   "source": [
    "df = pd.read_csv('recipients.csv')\n",
    "df"
   ]
  },
  {
   "cell_type": "markdown",
   "metadata": {},
   "source": [
    "# Email Settings"
   ]
  },
  {
   "cell_type": "code",
   "execution_count": 5,
   "metadata": {},
   "outputs": [],
   "source": [
    "my_username = 'sender@email.com'\n",
    "my_password = 'sender_password'\n",
    "send_from = 'sender@email.com'\n",
    "sender_name = 'Sender Name'\n",
    "email_subject = 'Happy New Year!'"
   ]
  },
  {
   "cell_type": "markdown",
   "metadata": {},
   "source": [
    "# Function for Sending Email"
   ]
  },
  {
   "cell_type": "code",
   "execution_count": 6,
   "metadata": {},
   "outputs": [],
   "source": [
    "def send_email(send_from, sender_name, subject, body, recipients, username, password):\n",
    "    \"\"\"Perform email transaction to emails in a dataframe\n",
    "    \"\"\"\n",
    "    recipients_list = [i for i in zip(recipients['email'], recipients['message'], recipients['recipient'])]\n",
    "    for (email, message, recipient) in recipients_list:\n",
    "        msg = MIMEMultipart()\n",
    "        msg['From'] = send_from\n",
    "        msg['Subject'] = subject\n",
    "        msg['Date'] = formatdate(localtime=True)\n",
    "        body_temp = body.replace('{sender name}', sender_name)\n",
    "        body_temp = body_temp.replace('{recipient name}', recipient)\n",
    "        body_temp = body_temp.replace('{text}', message)\n",
    "        msg['To'] = email\n",
    "        msgText = MIMEText(body_temp, 'html')\n",
    "        msg.attach(msgText)\n",
    "        smtp = smtplib.SMTP('smtp.office365.com', 587)\n",
    "        smtp.ehlo()\n",
    "        smtp.starttls()\n",
    "        smtp.login(username, password)\n",
    "        smtp.sendmail(send_from, [email], msg.as_string())\n",
    "        smtp.quit()"
   ]
  },
  {
   "cell_type": "markdown",
   "metadata": {},
   "source": [
    "# Send to recipients"
   ]
  },
  {
   "cell_type": "code",
   "execution_count": null,
   "metadata": {},
   "outputs": [],
   "source": [
    "send_email(send_from, sender_name, email_subject, body, df, username=my_username, \n",
    "           password=my_password)"
   ]
  }
 ],
 "metadata": {
  "kernelspec": {
   "display_name": "Python (base)",
   "language": "python",
   "name": "base"
  },
  "language_info": {
   "codemirror_mode": {
    "name": "ipython",
    "version": 3
   },
   "file_extension": ".py",
   "mimetype": "text/x-python",
   "name": "python",
   "nbconvert_exporter": "python",
   "pygments_lexer": "ipython3",
   "version": "3.8.6"
  }
 },
 "nbformat": 4,
 "nbformat_minor": 4
}
