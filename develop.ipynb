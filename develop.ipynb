{
 "cells": [
  {
   "cell_type": "markdown",
   "metadata": {},
   "source": [
    "# Libraries"
   ]
  },
  {
   "cell_type": "code",
   "execution_count": null,
   "metadata": {},
   "outputs": [],
   "source": [
    "import pandas as pd\n",
    "from IPython.core.display import HTML\n",
    "\n",
    "import smtplib\n",
    "from email.mime.multipart import MIMEMultipart\n",
    "from email.mime.text import MIMEText\n",
    "from email.utils import formatdate"
   ]
  },
  {
   "cell_type": "markdown",
   "metadata": {},
   "source": [
    "# Read HTML File"
   ]
  },
  {
   "cell_type": "code",
   "execution_count": null,
   "metadata": {},
   "outputs": [],
   "source": [
    "body = open('html/card.html', 'r', encoding='utf8').read()"
   ]
  },
  {
   "cell_type": "code",
   "execution_count": null,
   "metadata": {},
   "outputs": [],
   "source": [
    "HTML(body)"
   ]
  },
  {
   "cell_type": "markdown",
   "metadata": {},
   "source": [
    "# Import Recipients"
   ]
  },
  {
   "cell_type": "code",
   "execution_count": null,
   "metadata": {},
   "outputs": [],
   "source": [
    "df = pd.read_excel('recipients.xlsx')\n",
    "df"
   ]
  },
  {
   "cell_type": "markdown",
   "metadata": {},
   "source": [
    "# Email Settings"
   ]
  },
  {
   "cell_type": "code",
   "execution_count": null,
   "metadata": {},
   "outputs": [],
   "source": [
    "my_username = 'sender@email.com'\n",
    "my_password = 'sender_password'\n",
    "send_from = 'sender@email.com'\n",
    "sender_name = 'Peter Parkingspace'\n",
    "email_subject = 'Happy New Year!'"
   ]
  },
  {
   "cell_type": "markdown",
   "metadata": {},
   "source": [
    "# Function for Sending Email"
   ]
  },
  {
   "cell_type": "code",
   "execution_count": null,
   "metadata": {},
   "outputs": [],
   "source": [
    "def send_email(send_from, sender_name, subject, body, recipients, username, password):\n",
    "    \"\"\"Perform email transaction to emails in a dataframe\n",
    "    \"\"\"\n",
    "    recipients_list = [i for i in zip(recipients['email'], recipients['message'], recipients['recipient'])]\n",
    "    for (email, message, recipient) in recipients_list:\n",
    "        msg = MIMEMultipart()\n",
    "        msg['From'] = send_from\n",
    "        msg['Subject'] = subject\n",
    "        msg['Date'] = formatdate(localtime=True)\n",
    "        body_temp = body.replace('{sender name}', sender_name)\n",
    "        body_temp = body_temp.replace('{recipient name}', recipient)\n",
    "        body_temp = body_temp.replace('{text}', message)\n",
    "        msg['To'] = email\n",
    "        msgText = MIMEText(body_temp, 'html')\n",
    "        msg.attach(msgText)\n",
    "        smtp = smtplib.SMTP('smtp.office365.com', 587)\n",
    "        smtp.ehlo()\n",
    "        smtp.starttls()\n",
    "        smtp.login(username, password)\n",
    "        smtp.sendmail(send_from, [email], msg.as_string())\n",
    "        smtp.quit()"
   ]
  },
  {
   "cell_type": "markdown",
   "metadata": {},
   "source": [
    "# Send to recipients"
   ]
  },
  {
   "cell_type": "code",
   "execution_count": null,
   "metadata": {},
   "outputs": [],
   "source": [
    "send_email(send_from, sender_name, email_subject, body, df, username=my_username, \n",
    "           password=my_password)"
   ]
  }
 ],
 "metadata": {
  "kernelspec": {
   "display_name": "Python 3",
   "language": "python",
   "name": "python3"
  },
  "language_info": {
   "codemirror_mode": {
    "name": "ipython",
    "version": 3
   },
   "file_extension": ".py",
   "mimetype": "text/x-python",
   "name": "python",
   "nbconvert_exporter": "python",
   "pygments_lexer": "ipython3",
   "version": "3.8.6"
  }
 },
 "nbformat": 4,
 "nbformat_minor": 4
}
